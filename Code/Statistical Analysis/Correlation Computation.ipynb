{
 "cells": [
  {
   "cell_type": "code",
   "execution_count": 1,
   "metadata": {},
   "outputs": [
    {
     "name": "stdout",
     "output_type": "stream",
     "text": [
      "Packages imported\n"
     ]
    }
   ],
   "source": [
    "import numpy as np # linear algebra\n",
    "import pandas as pd # data processing, CSV file I/O (e.g. pd.read_csv)\n",
    "from sklearn.decomposition import TruncatedSVD\n",
    "import random\n",
    "import seaborn as sns\n",
    "import os.path as path\n",
    "import os\n",
    "import matplotlib\n",
    "import matplotlib.font_manager\n",
    "import matplotlib.pyplot as plt # graphs plotting\n",
    "from Bio import SeqIO # some BioPython that will come in handy\n",
    "#matplotlib inline\n",
    "import numpy\n",
    "import csv \n",
    "\n",
    "from matplotlib import rc\n",
    "\n",
    "from sklearn.model_selection import train_test_split\n",
    "from sklearn.linear_model import Lasso, LogisticRegression\n",
    "from sklearn.feature_selection import SelectFromModel\n",
    "from sklearn.preprocessing import StandardScaler\n",
    "\n",
    "from sklearn.datasets import load_iris\n",
    "from sklearn.model_selection import train_test_split\n",
    "from sklearn.naive_bayes import GaussianNB\n",
    "from sklearn import metrics\n",
    "from sklearn import svm\n",
    "\n",
    "from sklearn.datasets import load_iris\n",
    "from sklearn.model_selection import train_test_split\n",
    "from sklearn.naive_bayes import GaussianNB\n",
    "from sklearn import metrics\n",
    "\n",
    "import pandas as pd\n",
    "import sklearn\n",
    "from sklearn import preprocessing\n",
    "from sklearn.model_selection import train_test_split \n",
    "from sklearn.preprocessing import StandardScaler  \n",
    "from sklearn.neural_network import MLPClassifier \n",
    "from sklearn.metrics import classification_report, confusion_matrix \n",
    "\n",
    "from sklearn.neighbors import KNeighborsClassifier\n",
    "\n",
    "from sklearn.linear_model import LogisticRegression\n",
    "from sklearn.metrics import classification_report, confusion_matrix\n",
    "\n",
    "from pandas import DataFrame\n",
    "\n",
    "from sklearn.model_selection import KFold \n",
    "from sklearn.model_selection import RepeatedKFold\n",
    "\n",
    "from sklearn.metrics import confusion_matrix\n",
    "\n",
    "from numpy import mean\n",
    "\n",
    "\n",
    "from itertools import cycle\n",
    "\n",
    "from sklearn import svm, datasets\n",
    "from sklearn.metrics import roc_curve, auc\n",
    "from sklearn.model_selection import train_test_split\n",
    "from sklearn.preprocessing import label_binarize\n",
    "from sklearn.multiclass import OneVsRestClassifier\n",
    "from scipy import interp\n",
    "from sklearn.metrics import roc_auc_score\n",
    "\n",
    "import statistics\n",
    "\n",
    "from sklearn.cluster import KMeans\n",
    "\n",
    "from sklearn.datasets import load_digits\n",
    "from sklearn.decomposition import KernelPCA\n",
    "\n",
    "import math\n",
    "from sklearn.cluster import AgglomerativeClustering\n",
    "from sklearn.metrics import confusion_matrix\n",
    "\n",
    "# for Arial typefont\n",
    "matplotlib.rcParams['font.family'] = 'Arial'\n",
    "\n",
    "\n",
    "## for Palatino and other serif fonts use:\n",
    "# rc('font',**{'family':'serif','serif':['Palatino']})\n",
    "# matplotlib.rcParams['mathtext.fontset'] = 'cm'\n",
    "\n",
    "## for LaTeX typefont\n",
    "# matplotlib.rcParams['mathtext.fontset'] = 'stix'\n",
    "# matplotlib.rcParams['font.family'] = 'STIXGeneral'\n",
    "\n",
    "## for another LaTeX typefont\n",
    "# rc('font',**{'family':'sans-serif','sans-serif':['Helvetica']})\n",
    "\n",
    "# rc('text', usetex = True)\n",
    "\n",
    "print(\"Packages imported\")"
   ]
  },
  {
   "cell_type": "code",
   "execution_count": 2,
   "metadata": {},
   "outputs": [],
   "source": [
    "# path = \"E:/RA/Host Classification/Dataset/\"\n",
    "path = \"E:/RA/Position_Wright_Matrix/Dataset/\""
   ]
  },
  {
   "cell_type": "code",
   "execution_count": 3,
   "metadata": {},
   "outputs": [],
   "source": [
    "# seq_data = np.load(path + \"ALIGNED_sequences.npy\",allow_pickle=True)\n",
    "# attribute_data = np.load(\"E:/RA/Host Classification/Dataset/attributes.npy\",allow_pickle=True)\n",
    "# final_feature_vector = np.load(\"E:/RA/Position_Wright_Matrix/Dataset/updated_PWM_for_Host_Classification_Data_5558_seq.npy\")\n",
    "\n",
    "# final_feature_vector = np.load(path + \"one_hot_vec_for_Host_Classification_Data_5558_seq.npy\")\n",
    "\n",
    "final_feature_vector = np.load(\"E:/RA/Death Classification/Dataset/clinical_data_2_608_patients.npy\",allow_pickle=True)\n",
    "attribute_data = np.load(\"E:/RA/Death Classification/Dataset/clinical_data_2_608_patients_attributes.npy\",allow_pickle=True)"
   ]
  },
  {
   "cell_type": "code",
   "execution_count": 4,
   "metadata": {},
   "outputs": [
    {
     "name": "stdout",
     "output_type": "stream",
     "text": [
      "Attribute data preprocessing Done\n"
     ]
    }
   ],
   "source": [
    "host_names = attribute_data\n",
    "unique_hst = list(np.unique(host_names))\n",
    "# len(unique_hst)\n",
    "\n",
    "int_hosts = []\n",
    "for ind_unique in range(len(host_names)):\n",
    "    variant_tmp = host_names[ind_unique]\n",
    "    ind_tmp = unique_hst.index(variant_tmp)\n",
    "    int_hosts.append(ind_tmp)\n",
    "    \n",
    "print(\"Attribute data preprocessing Done\")"
   ]
  },
  {
   "cell_type": "code",
   "execution_count": 6,
   "metadata": {},
   "outputs": [],
   "source": [
    "import scipy\n",
    "\n",
    "\n",
    "pearson_val_lst = []\n",
    "pearson_val_p_value_lst = []\n",
    "\n",
    "spearman_val_lst = []\n",
    "spearman_val_p_value_lst = []\n",
    "\n",
    "for j in range(len(final_feature_vector[0])):\n",
    "    x_val = []\n",
    "    for i in range(len(final_feature_vector)):\n",
    "        aa = final_feature_vector[i]\n",
    "        x_val.append(aa[j])\n",
    "    pearson_val = scipy.stats.pearsonr(x_val, int_hosts)\n",
    "    pearson_val_lst.append(pearson_val[0])\n",
    "    tmp1 = \"{:.7f}\". format(pearson_val[1])\n",
    "    pearson_val_p_value_lst.append(tmp1)\n",
    "    \n",
    "    spearman_val = scipy.stats.spearmanr(x_val, int_hosts)\n",
    "    tmp3 = \"{:.7f}\". format(spearman_val[0])\n",
    "    spearman_val_lst.append(tmp3)\n",
    "    tmp2 = \"{:.7f}\". format(spearman_val[1])\n",
    "    spearman_val_p_value_lst.append(tmp2)"
   ]
  },
  {
   "cell_type": "code",
   "execution_count": 8,
   "metadata": {},
   "outputs": [
    {
     "data": {
      "text/plain": [
       "['0.1045850',\n",
       " '0.0984828',\n",
       " '-0.3261489',\n",
       " '0.0935463',\n",
       " '0.0301603',\n",
       " '-0.0118135',\n",
       " '0.1960160',\n",
       " '-0.0541584',\n",
       " '-0.0621699',\n",
       " '-0.0573133',\n",
       " '0.0892107',\n",
       " '0.0039016',\n",
       " '0.0110071',\n",
       " '-0.3694319',\n",
       " '-0.0642334',\n",
       " '-0.2393267',\n",
       " '0.1361046',\n",
       " '-0.0265561']"
      ]
     },
     "execution_count": 8,
     "metadata": {},
     "output_type": "execute_result"
    }
   ],
   "source": [
    "spearman_val_lst"
   ]
  },
  {
   "cell_type": "code",
   "execution_count": null,
   "metadata": {},
   "outputs": [],
   "source": [
    "\n",
    "import csv\n",
    "write_path_11 = \"E:/RA/Position_Wright_Matrix/Results/clinical_2_pearson_correlation.csv\"\n",
    "\n",
    "with open(write_path_11, 'w', newline='') as file:\n",
    "    writer = csv.writer(file)\n",
    "    for i in range(0,len(pearson_val_lst)):\n",
    "        ccv = str(pearson_val_lst[i])\n",
    "        writer.writerow([ccv])\n",
    "        \n",
    "write_path_11 = \"E:/RA/Position_Wright_Matrix/Results/clinical_2_one_hot_pearson_correlation_p_value.csv\"\n",
    "\n",
    "with open(write_path_11, 'w', newline='') as file:\n",
    "    writer = csv.writer(file)\n",
    "    for i in range(0,len(pearson_val_p_value_lst)):\n",
    "        ccv = str(pearson_val_p_value_lst[i])\n",
    "        writer.writerow([ccv])\n",
    "        \n",
    "write_path_11 = \"E:/RA/Position_Wright_Matrix/Results/clinical_2_one_hot_spearman_correlation.csv\"\n",
    "\n",
    "with open(write_path_11, 'w', newline='') as file:\n",
    "    writer = csv.writer(file)\n",
    "    for i in range(0,len(spearman_val_lst)):\n",
    "        ccv = str(spearman_val_lst[i])\n",
    "        writer.writerow([ccv])\n",
    "        \n",
    "write_path_11 = \"E:/RA/Position_Wright_Matrix/Results/clinical_2_one_hot_spearman_correlation_p.csv\"\n",
    "\n",
    "with open(write_path_11, 'w', newline='') as file:\n",
    "    writer = csv.writer(file)\n",
    "    for i in range(0,len(spearman_val_p_value_lst)):\n",
    "        ccv = str(spearman_val_p_value_lst[i])\n",
    "        writer.writerow([ccv])"
   ]
  },
  {
   "cell_type": "code",
   "execution_count": null,
   "metadata": {},
   "outputs": [],
   "source": []
  }
 ],
 "metadata": {
  "kernelspec": {
   "display_name": "Python 3",
   "language": "python",
   "name": "python3"
  },
  "language_info": {
   "codemirror_mode": {
    "name": "ipython",
    "version": 3
   },
   "file_extension": ".py",
   "mimetype": "text/x-python",
   "name": "python",
   "nbconvert_exporter": "python",
   "pygments_lexer": "ipython3",
   "version": "3.8.5"
  }
 },
 "nbformat": 4,
 "nbformat_minor": 4
}
